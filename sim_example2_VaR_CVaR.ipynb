{
 "cells": [
  {
   "cell_type": "markdown",
   "metadata": {},
   "source": [
    "## Computing VaR and CVaR from Simulation Modeling"
   ]
  },
  {
   "cell_type": "code",
   "execution_count": 1,
   "metadata": {},
   "outputs": [],
   "source": [
    "import numpy as np\n",
    "import pandas as pd\n",
    "import scipy.stats as scs\n",
    "import matplotlib as mpl\n",
    "import matplotlib.pyplot as plt\n",
    "import math\n",
    "%matplotlib inline"
   ]
  },
  {
   "cell_type": "markdown",
   "metadata": {},
   "source": [
    "Initial capital"
   ]
  },
  {
   "cell_type": "code",
   "execution_count": 2,
   "metadata": {},
   "outputs": [],
   "source": [
    "v0 = 1000"
   ]
  },
  {
   "cell_type": "markdown",
   "metadata": {},
   "source": [
    "Number of scenarios"
   ]
  },
  {
   "cell_type": "code",
   "execution_count": 3,
   "metadata": {},
   "outputs": [],
   "source": [
    "N = 5000"
   ]
  },
  {
   "cell_type": "markdown",
   "metadata": {},
   "source": [
    "Generate Normal random variables"
   ]
  },
  {
   "cell_type": "code",
   "execution_count": 4,
   "metadata": {},
   "outputs": [],
   "source": [
    "r_speriod3 = np.random.normal(0.0879, 0.1465, (N, 3))"
   ]
  },
  {
   "cell_type": "markdown",
   "metadata": {},
   "source": [
    "Distribution of value at the end of year 3"
   ]
  },
  {
   "cell_type": "code",
   "execution_count": 5,
   "metadata": {},
   "outputs": [],
   "source": [
    "v3 = v0 * np.prod(1 + r_speriod3, 1)"
   ]
  },
  {
   "cell_type": "markdown",
   "metadata": {},
   "source": [
    "Distribution of return over 3 years"
   ]
  },
  {
   "cell_type": "code",
   "execution_count": 6,
   "metadata": {},
   "outputs": [],
   "source": [
    "r3 = np.prod(1+r_speriod3, 1) - 1"
   ]
  },
  {
   "cell_type": "markdown",
   "metadata": {},
   "source": [
    "Losses (value and return)"
   ]
  },
  {
   "cell_type": "code",
   "execution_count": 7,
   "metadata": {},
   "outputs": [],
   "source": [
    "loss_v3 = np.sort(-(v3 - v0))\n",
    "loss_r3 = np.sort(-r3)"
   ]
  },
  {
   "cell_type": "markdown",
   "metadata": {},
   "source": [
    "Quantile levels (90%, 95%, 99%, 99.9%)"
   ]
  },
  {
   "cell_type": "code",
   "execution_count": 8,
   "metadata": {},
   "outputs": [],
   "source": [
    "alphas = [0.90, 0.95, 0.99, 0.999]"
   ]
  },
  {
   "cell_type": "markdown",
   "metadata": {},
   "source": [
    "Compute VaR and CVaR"
   ]
  },
  {
   "cell_type": "code",
   "execution_count": 9,
   "metadata": {},
   "outputs": [
    {
     "name": "stdout",
     "output_type": "stream",
     "text": [
      "Loss in value after 3 years:\n",
      "VaR 90.0% = $ 83.64, CVaR 90.0% = $186.21\n",
      "VaR 95.0% = $161.56, CVaR 95.0% = $254.50\n",
      "VaR 99.0% = $321.04, CVaR 99.0% = $381.12\n",
      "VaR 99.9% = $449.36, CVaR 99.9% = $473.64\n",
      "\n",
      "Loss return over 3 years:\n",
      "VaR 90.0% =   8.36%, CVaR 90.0% =  18.62%\n",
      "VaR 95.0% =  16.16%, CVaR 95.0% =  25.45%\n",
      "VaR 99.0% =  32.10%, CVaR 99.0% =  38.11%\n",
      "VaR 99.9% =  44.94%, CVaR 99.9% =  47.36%\n"
     ]
    }
   ],
   "source": [
    "VaRv = []\n",
    "VaRr = []\n",
    "CVaRv = []\n",
    "CVaRr = []\n",
    "print ('Loss in value after 3 years:')\n",
    "for q in range(len(alphas)):\n",
    "    alf = alphas[q]\n",
    "    VaRv.append(loss_v3[int(math.ceil(N * alf)) - 1])\n",
    "    VaRr.append(loss_r3[int(math.ceil(N * alf)) - 1])\n",
    "    CVaRv.append((1 / (N * (1 - alf))) * ((math.ceil(N * alf) - N * alf) * VaRv[q] + sum(loss_v3[int(math.ceil(N * alf)):])))\n",
    "    CVaRr.append((1 / (N * (1 - alf))) * ((math.ceil(N * alf) - N * alf) * VaRr[q] + sum(loss_r3[int(math.ceil(N * alf)):])))\n",
    "    print ('VaR %4.1f%% = $%6.2f, CVaR %4.1f%% = $%6.2f' % (100 * alf, VaRv[q], 100 * alf, CVaRv[q]))\n",
    "\n",
    "print ('\\nLoss return over 3 years:')\n",
    "for q in range(len(alphas)):\n",
    "    print ('VaR %4.1f%% = %6.2f%%, CVaR %4.1f%% = %6.2f%%' % (100 * alphas[q], 100 * VaRr[q], 100 * alphas[q], 100 * CVaRr[q]))"
   ]
  },
  {
   "cell_type": "markdown",
   "metadata": {},
   "source": [
    "Plot a histogram of the distribution of losses in value after 3 years"
   ]
  },
  {
   "cell_type": "code",
   "execution_count": 10,
   "metadata": {},
   "outputs": [
    {
     "data": {
      "text/plain": [
       "Text(0, 0.5, 'Frequency')"
      ]
     },
     "execution_count": 10,
     "metadata": {},
     "output_type": "execute_result"
    },
    {
     "data": {
      "image/png": "[encoded data removed]",
      "text/plain": [
       "<Figure size 640x480 with 1 Axes>"
      ]
     },
     "metadata": {},
     "output_type": "display_data"
    }
   ],
   "source": [
    "frequencyCounts, binLocations, patches = plt.hist(loss_v3, 100)\n",
    "for q in range(len(alphas)):\n",
    "    plt.plot([VaRv[q], VaRv[q]], [0, max(frequencyCounts)], color='r', linewidth=1, linestyle='-.')\n",
    "plt.xlabel('Loss in portfolio value after 3 years')\n",
    "plt.ylabel('Frequency')"
   ]
  }
 ],
 "metadata": {
  "kernelspec": {
   "display_name": "Python 3 (ipykernel)",
   "language": "python",
   "name": "python3"
  },
  "language_info": {
   "codemirror_mode": {
    "name": "ipython",
    "version": 3
   },
   "file_extension": ".py",
   "mimetype": "text/x-python",
   "name": "python",
   "nbconvert_exporter": "python",
   "pygments_lexer": "ipython3",
   "version": "3.9.16"
  }
 },
 "nbformat": 4,
 "nbformat_minor": 1
}
